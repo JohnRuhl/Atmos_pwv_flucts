{
 "cells": [
  {
   "cell_type": "markdown",
   "id": "cc7d135e-f400-456b-a498-f5372bdc3109",
   "metadata": {},
   "source": [
    "## Jacobian Calculations from am modeling software\n",
    "\n",
    "In this nb we are looking at the Jacobian for T_rj. Below is an equation taken from the handbook stating \"The Nscale statement applies a scale factor x to SECTION 8.2.1 AN EXAMPLE FROM WATER VAPOR RADIOMETRY 141 the tropospheric part of this profile, and our differentiation variable is this scale factor, not the total water vapor column density itself. That is, we're computing ∂T_R−J /∂x and not ∂T_R−J /∂ N_H2O . The relationship between the two is:\n",
    "\n",
    "$\\frac{\\delta T_{rj}}{\\delta N_{H20}}=(\\frac{\\delta N_{H20}}{\\delta x})^{-1} * \\frac{\\delta T_{rj}}{\\delta x} = \\frac{1}{N_{0}} * \\frac{\\delta T_{rj}}{\\delta x}$\n",
    "\n",
    "where N_0 is the unscaled median tropospheric column density at x=1 . As documented in the listing of Example 2.5, N 0=1.86 precipitable millimeters. (We could also have found this by examining the column density summaries in the stderr output after a run with x=1 .)"
   ]
  },
  {
   "cell_type": "code",
   "execution_count": 7,
   "id": "2b1f5c3e-793e-403b-8965-2be10425176e",
   "metadata": {},
   "outputs": [],
   "source": [
    "##### import matplotlib.pyplot as plt\n",
    "#edit\n",
    "import numpy as np\n",
    "import matplotlib.scale as scale\n",
    "import matplotlib.pyplot as plt\n",
    "import yaml\n",
    "import pandas as pd\n",
    "from mpl_toolkits.axes_grid1 import make_axes_locatable\n",
    "import sys\n",
    "#sys.path.insert(\"/Users/jillg/code/CMB_s4/Atmos/\")\n",
    "#from Atmos_pwv_funcs import *\n",
    "\n",
    "%matplotlib inline\n",
    "plt.rcParams.update({'font.size': 18})\n",
    "plt.rcParams['figure.figsize'] = [8, 6]"
   ]
  },
  {
   "cell_type": "code",
   "execution_count": 8,
   "id": "23602397-03de-40df-9cc6-0b0809e8f61a",
   "metadata": {},
   "outputs": [
    {
     "ename": "OSError",
     "evalue": "Atacama_900um_wjacobian.txt not found.",
     "output_type": "error",
     "traceback": [
      "\u001b[0;31m---------------------------------------------------------------------------\u001b[0m",
      "\u001b[0;31mOSError\u001b[0m                                   Traceback (most recent call last)",
      "\u001b[0;32m/var/folders/jz/nymvbqw100n1_bvny1fxc5cr0000gn/T/ipykernel_27453/674838781.py\u001b[0m in \u001b[0;36m<module>\u001b[0;34m\u001b[0m\n\u001b[1;32m      2\u001b[0m \u001b[0;34m\u001b[0m\u001b[0m\n\u001b[1;32m      3\u001b[0m \u001b[0;31m#ACT am files\u001b[0m\u001b[0;34m\u001b[0m\u001b[0;34m\u001b[0m\u001b[0m\n\u001b[0;32m----> 4\u001b[0;31m \u001b[0ma900\u001b[0m \u001b[0;34m=\u001b[0m \u001b[0mnp\u001b[0m\u001b[0;34m.\u001b[0m\u001b[0mloadtxt\u001b[0m\u001b[0;34m(\u001b[0m\u001b[0;34m'Atacama_900um_wjacobian.txt'\u001b[0m\u001b[0;34m,\u001b[0m \u001b[0munpack\u001b[0m\u001b[0;34m=\u001b[0m\u001b[0;32mTrue\u001b[0m\u001b[0;34m)\u001b[0m\u001b[0;34m\u001b[0m\u001b[0;34m\u001b[0m\u001b[0m\n\u001b[0m\u001b[1;32m      5\u001b[0m \u001b[0ma1000\u001b[0m \u001b[0;34m=\u001b[0m \u001b[0mnp\u001b[0m\u001b[0;34m.\u001b[0m\u001b[0mloadtxt\u001b[0m\u001b[0;34m(\u001b[0m\u001b[0;34m'Atacama_1000um_wjacobian.txt'\u001b[0m\u001b[0;34m,\u001b[0m\u001b[0munpack\u001b[0m\u001b[0;34m=\u001b[0m\u001b[0;32mTrue\u001b[0m\u001b[0;34m)\u001b[0m\u001b[0;34m\u001b[0m\u001b[0;34m\u001b[0m\u001b[0m\n\u001b[1;32m      6\u001b[0m \u001b[0;34m\u001b[0m\u001b[0m\n",
      "\u001b[0;32m/opt/anaconda3/lib/python3.9/site-packages/numpy/lib/npyio.py\u001b[0m in \u001b[0;36mloadtxt\u001b[0;34m(fname, dtype, comments, delimiter, converters, skiprows, usecols, unpack, ndmin, encoding, max_rows, like)\u001b[0m\n\u001b[1;32m   1065\u001b[0m             \u001b[0mfname\u001b[0m \u001b[0;34m=\u001b[0m \u001b[0mos_fspath\u001b[0m\u001b[0;34m(\u001b[0m\u001b[0mfname\u001b[0m\u001b[0;34m)\u001b[0m\u001b[0;34m\u001b[0m\u001b[0;34m\u001b[0m\u001b[0m\n\u001b[1;32m   1066\u001b[0m         \u001b[0;32mif\u001b[0m \u001b[0m_is_string_like\u001b[0m\u001b[0;34m(\u001b[0m\u001b[0mfname\u001b[0m\u001b[0;34m)\u001b[0m\u001b[0;34m:\u001b[0m\u001b[0;34m\u001b[0m\u001b[0;34m\u001b[0m\u001b[0m\n\u001b[0;32m-> 1067\u001b[0;31m             \u001b[0mfh\u001b[0m \u001b[0;34m=\u001b[0m \u001b[0mnp\u001b[0m\u001b[0;34m.\u001b[0m\u001b[0mlib\u001b[0m\u001b[0;34m.\u001b[0m\u001b[0m_datasource\u001b[0m\u001b[0;34m.\u001b[0m\u001b[0mopen\u001b[0m\u001b[0;34m(\u001b[0m\u001b[0mfname\u001b[0m\u001b[0;34m,\u001b[0m \u001b[0;34m'rt'\u001b[0m\u001b[0;34m,\u001b[0m \u001b[0mencoding\u001b[0m\u001b[0;34m=\u001b[0m\u001b[0mencoding\u001b[0m\u001b[0;34m)\u001b[0m\u001b[0;34m\u001b[0m\u001b[0;34m\u001b[0m\u001b[0m\n\u001b[0m\u001b[1;32m   1068\u001b[0m             \u001b[0mfencoding\u001b[0m \u001b[0;34m=\u001b[0m \u001b[0mgetattr\u001b[0m\u001b[0;34m(\u001b[0m\u001b[0mfh\u001b[0m\u001b[0;34m,\u001b[0m \u001b[0;34m'encoding'\u001b[0m\u001b[0;34m,\u001b[0m \u001b[0;34m'latin1'\u001b[0m\u001b[0;34m)\u001b[0m\u001b[0;34m\u001b[0m\u001b[0;34m\u001b[0m\u001b[0m\n\u001b[1;32m   1069\u001b[0m             \u001b[0mfh\u001b[0m \u001b[0;34m=\u001b[0m \u001b[0miter\u001b[0m\u001b[0;34m(\u001b[0m\u001b[0mfh\u001b[0m\u001b[0;34m)\u001b[0m\u001b[0;34m\u001b[0m\u001b[0;34m\u001b[0m\u001b[0m\n",
      "\u001b[0;32m/opt/anaconda3/lib/python3.9/site-packages/numpy/lib/_datasource.py\u001b[0m in \u001b[0;36mopen\u001b[0;34m(path, mode, destpath, encoding, newline)\u001b[0m\n\u001b[1;32m    191\u001b[0m \u001b[0;34m\u001b[0m\u001b[0m\n\u001b[1;32m    192\u001b[0m     \u001b[0mds\u001b[0m \u001b[0;34m=\u001b[0m \u001b[0mDataSource\u001b[0m\u001b[0;34m(\u001b[0m\u001b[0mdestpath\u001b[0m\u001b[0;34m)\u001b[0m\u001b[0;34m\u001b[0m\u001b[0;34m\u001b[0m\u001b[0m\n\u001b[0;32m--> 193\u001b[0;31m     \u001b[0;32mreturn\u001b[0m \u001b[0mds\u001b[0m\u001b[0;34m.\u001b[0m\u001b[0mopen\u001b[0m\u001b[0;34m(\u001b[0m\u001b[0mpath\u001b[0m\u001b[0;34m,\u001b[0m \u001b[0mmode\u001b[0m\u001b[0;34m,\u001b[0m \u001b[0mencoding\u001b[0m\u001b[0;34m=\u001b[0m\u001b[0mencoding\u001b[0m\u001b[0;34m,\u001b[0m \u001b[0mnewline\u001b[0m\u001b[0;34m=\u001b[0m\u001b[0mnewline\u001b[0m\u001b[0;34m)\u001b[0m\u001b[0;34m\u001b[0m\u001b[0;34m\u001b[0m\u001b[0m\n\u001b[0m\u001b[1;32m    194\u001b[0m \u001b[0;34m\u001b[0m\u001b[0m\n\u001b[1;32m    195\u001b[0m \u001b[0;34m\u001b[0m\u001b[0m\n",
      "\u001b[0;32m/opt/anaconda3/lib/python3.9/site-packages/numpy/lib/_datasource.py\u001b[0m in \u001b[0;36mopen\u001b[0;34m(self, path, mode, encoding, newline)\u001b[0m\n\u001b[1;32m    531\u001b[0m                                       encoding=encoding, newline=newline)\n\u001b[1;32m    532\u001b[0m         \u001b[0;32melse\u001b[0m\u001b[0;34m:\u001b[0m\u001b[0;34m\u001b[0m\u001b[0;34m\u001b[0m\u001b[0m\n\u001b[0;32m--> 533\u001b[0;31m             \u001b[0;32mraise\u001b[0m \u001b[0mIOError\u001b[0m\u001b[0;34m(\u001b[0m\u001b[0;34m\"%s not found.\"\u001b[0m \u001b[0;34m%\u001b[0m \u001b[0mpath\u001b[0m\u001b[0;34m)\u001b[0m\u001b[0;34m\u001b[0m\u001b[0;34m\u001b[0m\u001b[0m\n\u001b[0m\u001b[1;32m    534\u001b[0m \u001b[0;34m\u001b[0m\u001b[0m\n\u001b[1;32m    535\u001b[0m \u001b[0;34m\u001b[0m\u001b[0m\n",
      "\u001b[0;31mOSError\u001b[0m: Atacama_900um_wjacobian.txt not found."
     ]
    }
   ],
   "source": [
    "#Read in --wjacobian.txt file here:\n",
    "\n",
    "#ACT am files\n",
    "a900 = np.loadtxt('Atacama_900um_wjacobian.txt', unpack=True)\n",
    "a1000 = np.loadtxt('Atacama_1000um_wjacobian.txt',unpack=True)\n",
    "\n",
    "#SPole am files\n",
    "'''\n",
    "sp300 = np.loadtxt('.txt',unpack=True)\n",
    "sp400 = np.loadtxt('.txt',unpack=True)\n",
    "'''"
   ]
  },
  {
   "cell_type": "code",
   "execution_count": null,
   "id": "93d8b1f3-f2a9-459e-8122-ef339fe5d612",
   "metadata": {},
   "outputs": [],
   "source": [
    "\n",
    "\n",
    "print(atmos['Atacama'][900][3]/atmos['Atacama'][900][5])\n",
    "plt.plot(act_freq,atmos['Atacama'][900][5])#*(1/0.966))\n",
    "plt.plot(act_freq,atmos['Atacama'][900][3])"
   ]
  },
  {
   "cell_type": "code",
   "execution_count": null,
   "id": "fa35a372-9027-4dad-af00-decc394611b7",
   "metadata": {},
   "outputs": [],
   "source": [
    "#this will be necessary when the Jacobian is incorporated\n",
    "plt.rcParams.update({'font.size': 14})\n",
    "plt.rcParams['figure.figsize'] = [12, 6]\n",
    "\n",
    "#figure.set_constrained_layout_pads(w_pad=5 / 72, h_pad=2 / 72, hspace=0.5,\n",
    "                               # wspace=1.0)\n",
    "\n",
    "act_freq=atmos['Atacama'][900][0]\n",
    "\n",
    "plt.subplot(2,3,1)\n",
    "plt.plot(act_freq, atmos['Atacama'][900][1]) #tau neper\n",
    "\n",
    "plt.subplot(2,3,2)\n",
    "plt.plot(act_freq, atmos['Atacama'][900][2]) #transmittance\n",
    "\n",
    "plt.subplot(2,3,3)\n",
    "plt.plot(act_freq, atmos['Atacama'][900][3]) #trj K\n",
    "\n",
    "plt.subplot(2,3,4)\n",
    "plt.plot(act_freq, atmos['Atacama'][900][4]) #tb K\n",
    "\n",
    "plt.subplot(2,3,5)\n",
    "plt.plot(act_freq, atmos['Atacama'][900][5]) #? Jacobian of Trj\n"
   ]
  }
 ],
 "metadata": {
  "kernelspec": {
   "display_name": "Python 3 (ipykernel)",
   "language": "python",
   "name": "python3"
  },
  "language_info": {
   "codemirror_mode": {
    "name": "ipython",
    "version": 3
   },
   "file_extension": ".py",
   "mimetype": "text/x-python",
   "name": "python",
   "nbconvert_exporter": "python",
   "pygments_lexer": "ipython3",
   "version": "3.9.13"
  }
 },
 "nbformat": 4,
 "nbformat_minor": 5
}
